{
 "cells": [
  {
   "attachments": {},
   "cell_type": "markdown",
   "metadata": {},
   "source": [
    "Connecter un bot a internet pour récupérer la disponibilité d'une selection de film, le but était d'utilisé l'outil de google pour savoir si un films est dispo gratuitement ou abonnement sur une liste de service de streaming, envoyer une notif quand il est dispo sur ce service de streaming"
   ]
  },
  {
   "attachments": {},
   "cell_type": "markdown",
   "metadata": {},
   "source": [
    "<div class=\"ellip bclEt\">Google Play Films et TV</div>\n",
    "<div class=\"ellip rsj3fb\">À partir de <span>2,99&nbsp;€</span></div>\n",
    "\n",
    "<div class=\"ellip bclEt\"> => avoir le nom du service de streaming,\n",
    "<div class=\"ellip rsj3fb\"> => avoir le prix du service et savoir si il est disponible en abonnement"
   ]
  },
  {
   "cell_type": "code",
   "execution_count": 51,
   "metadata": {},
   "outputs": [],
   "source": [
    "from selenium import webdriver\n",
    "from selenium.webdriver.common.keys import Keys\n",
    "from selenium.webdriver.chrome.options import Options\n",
    "from selenium.webdriver.chrome.service import Service\n",
    "from selenium.webdriver.common.by import By\n",
    "from selenium.webdriver.support.ui import WebDriverWait\n",
    "from selenium.webdriver.support import expected_conditions as EC\n",
    "from bs4 import BeautifulSoup\n",
    "import time"
   ]
  },
  {
   "cell_type": "code",
   "execution_count": 6,
   "metadata": {},
   "outputs": [],
   "source": [
    "#test request\n",
    "def search_google(query):\n",
    "    url = \"https://www.google.com/search\"\n",
    "    params = {\"q\": query}\n",
    "    headers = {\n",
    "        \"User-Agent\": \"Mozilla/5.0 (Windows NT 10.0; Win64; x64) AppleWebKit/537.36 (KHTML, like Gecko) Chrome/91.0.4472.124 Safari/537.36\"\n",
    "    }  # Ajoutez un en-tête User-Agent pour éviter le blocage par Google\n",
    "    \n",
    "    response = requests.get(url, params=params, headers=headers)\n",
    "    response.raise_for_status()  # Vérifiez si la requête a réussi\n",
    "    \n",
    "    return response.text   "
   ]
  },
  {
   "cell_type": "code",
   "execution_count": 81,
   "metadata": {},
   "outputs": [],
   "source": [
    "def search_google(query):\n",
    "    chrome_options = Options()\n",
    "    s = Service('C:/Program Files (x86)/chromedriver')\n",
    "    driver = webdriver.Chrome(service = s,options=chrome_options)\n",
    "    driver.get(\"https://www.google.com/search?q=\" + query)\n",
    "\n",
    "    # Utilisez Selenium pour simuler l'appui sur la touche \"Enter\" afin d'effectuer la recherche\n",
    "    #search_box = driver.find_element(By.NAME,\"q\")\n",
    "    #search_box.send_keys(Keys.RETURN)\n",
    "    \n",
    "    driver.implicitly_wait(10)\n",
    "    bouton_cookies = driver.find_element(By.ID, \"L2AGLb\")\n",
    "    bouton_cookies.click()\n",
    "\n",
    "    driver.implicitly_wait(10)\n",
    "    button_xpath = '//g-expandable-content[@role=\"button\" and @tabindex=\"0\" and @jscontroller=\"Ah7cLd\"]'\n",
    "    button = driver.find_element(By.XPATH, button_xpath)\n",
    "    button.click()\n",
    "    \n",
    "  \n",
    "    \n",
    "    # Récupérez le contenu HTML après que les contenus cachés soient disponibles\n",
    "    time.sleep(2)\n",
    "    html = driver.page_source\n",
    "    \n",
    "    driver.quit()  # Fermez le navigateur\n",
    "    \n",
    "    return html"
   ]
  },
  {
   "cell_type": "code",
   "execution_count": 82,
   "metadata": {},
   "outputs": [],
   "source": [
    "def extract_div_elements(html, class_names):\n",
    "    soup = BeautifulSoup(html, \"html.parser\")\n",
    "    div_elements = soup.find_all(\"div\", class_=class_names)\n",
    "    \n",
    "    for div in div_elements:\n",
    "        print(div.text)"
   ]
  },
  {
   "cell_type": "code",
   "execution_count": 83,
   "metadata": {},
   "outputs": [
    {
     "name": "stdout",
     "output_type": "stream",
     "text": [
      "YouTube\n",
      "À partir de 2,99 €\n",
      "Google Play Films et TV\n",
      "À partir de 2,99 €\n",
      "CANAL VOD\n",
      "À partir de 2,99 €\n",
      "Amazon Prime Video\n",
      "À partir de 2,99 €\n",
      "Universciné\n",
      "À partir de 2,99 €\n",
      "Apple TV\n",
      "À partir de 3,99 €\n",
      "Netflix\n",
      "Abonnement\n"
     ]
    }
   ],
   "source": [
    "# Demande à l'utilisateur de saisir le terme de recherche\n",
    "query = input(\"Entrez votre recherche : \")\n",
    "\n",
    "# Envoie la requête de recherche et récupère les résultats\n",
    "search_results = search_google(query)\n",
    "\n",
    "# Extrait les éléments <div> ayant la classe \"ellip bclEt\"\n",
    "extract_div_elements(search_results, [\"ellip bclEt\", \"ellip rsj3fb\"])"
   ]
  }
 ],
 "metadata": {
  "kernelspec": {
   "display_name": "Python 3",
   "language": "python",
   "name": "python3"
  },
  "language_info": {
   "codemirror_mode": {
    "name": "ipython",
    "version": 3
   },
   "file_extension": ".py",
   "mimetype": "text/x-python",
   "name": "python",
   "nbconvert_exporter": "python",
   "pygments_lexer": "ipython3",
   "version": "3.11.3"
  },
  "orig_nbformat": 4
 },
 "nbformat": 4,
 "nbformat_minor": 2
}
