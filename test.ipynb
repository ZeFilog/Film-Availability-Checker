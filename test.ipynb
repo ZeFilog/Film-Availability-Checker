{
 "cells": [
  {
   "attachments": {},
   "cell_type": "markdown",
   "metadata": {},
   "source": [
    "Connecter un bot a internet pour récupérer la disponibilité d'une selection de film, le but était d'utilisé l'outil de google pour savoir si un films est dispo gratuitement ou abonnement sur une liste de service de streaming, envoyer une notif quand il est dispo sur ce service de streaming"
   ]
  },
  {
   "attachments": {},
   "cell_type": "markdown",
   "metadata": {},
   "source": [
    "<div class=\"ellip bclEt\">Google Play Films et TV</div>\n",
    "<div class=\"ellip rsj3fb\">À partir de <span>2,99&nbsp;€</span></div>\n",
    "\n",
    "<div class=\"ellip bclEt\"> => avoir le nom du service de streaming,\n",
    "<div class=\"ellip rsj3fb\"> => avoir le prix du service et savoir si il est disponible en abonnement"
   ]
  },
  {
   "cell_type": "code",
   "execution_count": 51,
   "metadata": {},
   "outputs": [],
   "source": [
    "from selenium import webdriver\n",
    "from selenium.webdriver.common.keys import Keys\n",
    "from selenium.webdriver.chrome.options import Options\n",
    "from selenium.webdriver.chrome.service import Service\n",
    "from selenium.webdriver.common.by import By\n",
    "from selenium.webdriver.support.ui import WebDriverWait\n",
    "from selenium.webdriver.support import expected_conditions as EC\n",
    "from bs4 import BeautifulSoup\n",
    "import time"
   ]
  },
  {
   "cell_type": "code",
   "execution_count": 6,
   "metadata": {},
   "outputs": [],
   "source": [
    "#test request\n",
    "def search_google(query):\n",
    "    url = \"https://www.google.com/search\"\n",
    "    params = {\"q\": query}\n",
    "    headers = {\n",
    "        \"User-Agent\": \"Mozilla/5.0 (Windows NT 10.0; Win64; x64) AppleWebKit/537.36 (KHTML, like Gecko) Chrome/91.0.4472.124 Safari/537.36\"\n",
    "    }  # Ajoutez un en-tête User-Agent pour éviter le blocage par Google\n",
    "    \n",
    "    response = requests.get(url, params=params, headers=headers)\n",
    "    response.raise_for_status()  # Vérifiez si la requête a réussi\n",
    "    \n",
    "    return response.text   "
   ]
  },
  {
   "cell_type": "code",
   "execution_count": 120,
   "metadata": {},
   "outputs": [],
   "source": [
    "def search_google(query):\n",
    "    chrome_options = Options()\n",
    "    s = Service('C:/Program Files (x86)/chromedriver')\n",
    "    driver = webdriver.Chrome(service = s,options=chrome_options)\n",
    "    driver.get(\"https://www.google.com/search?q=\" + query)\n",
    "\n",
    "    # Utilisez Selenium pour simuler l'appui sur la touche \"Enter\" afin d'effectuer la recherche\n",
    "    #search_box = driver.find_element(By.NAME,\"q\")\n",
    "    #search_box.send_keys(Keys.RETURN)\n",
    "    \n",
    "    driver.implicitly_wait(10)\n",
    "    try:\n",
    "        bouton_cookies = driver.find_element(By.ID, \"L2AGLb\")\n",
    "        bouton_cookies.click()\n",
    "    except:\n",
    "        pass\n",
    "    driver.implicitly_wait(10)\n",
    "    try:\n",
    "        button_xpath = '//g-expandable-content[@role=\"button\" and @tabindex=\"0\" and @jscontroller=\"Ah7cLd\"]'\n",
    "        button = driver.find_element(By.XPATH, button_xpath)\n",
    "        button.click()\n",
    "    except:\n",
    "        pass\n",
    "    \n",
    "  \n",
    "    \n",
    "    # Récupérez le contenu HTML après que les contenus cachés soient disponibles\n",
    "    time.sleep(2)\n",
    "    html = driver.page_source\n",
    "    \n",
    "    driver.quit()  # Fermez le navigateur\n",
    "    \n",
    "    return html"
   ]
  },
  {
   "cell_type": "code",
   "execution_count": 128,
   "metadata": {},
   "outputs": [],
   "source": [
    "def extract_div_elements(html, class_names):\n",
    "    soup = BeautifulSoup(html, \"html.parser\")\n",
    "    div_elements = soup.find_all(\"div\", class_=class_names)\n",
    "   \n",
    "    results = {}\n",
    "    for i in range(0, len(div_elements), 2):\n",
    "        title = div_elements[i].text\n",
    "        description = div_elements[i+1].text\n",
    "        results[title] = description\n",
    "\n",
    "    return results\n"
   ]
  },
  {
   "cell_type": "code",
   "execution_count": 129,
   "metadata": {},
   "outputs": [],
   "source": [
    "def filter_results(results):\n",
    "    filtered_results = {}\n",
    "    desired_keys = [\"Amazon Prime Video\", \"Netflix\", \"Disney+\"]\n",
    "\n",
    "    for key, value in results.items():\n",
    "        if key in desired_keys and value == \"Abonnement\":\n",
    "            filtered_results[key] = value\n",
    "\n",
    "    return filtered_results\n"
   ]
  },
  {
   "cell_type": "code",
   "execution_count": 132,
   "metadata": {},
   "outputs": [],
   "source": [
    "def read_movie_names(file_path):\n",
    "    with open(file_path, 'r') as file:\n",
    "        movie_names = [line.strip() for line in file]\n",
    "    return movie_names\n",
    "\n",
    "movie_file = \"films.txt\"\n",
    "movie_names = read_movie_names(movie_file)\n"
   ]
  },
  {
   "cell_type": "code",
   "execution_count": 133,
   "metadata": {},
   "outputs": [],
   "source": [
    "movie_file = \"films.txt\"\n",
    "movie_names = read_movie_names(movie_file)\n",
    "\n",
    "for movie_name in movie_names:\n",
    "    search_results = search_google(movie_name)\n",
    "    # Reste du code pour extraire et filtrer les résultats\n"
   ]
  },
  {
   "cell_type": "code",
   "execution_count": 137,
   "metadata": {},
   "outputs": [],
   "source": [
    "def add_movie_names(file_path):\n",
    "    while True:\n",
    "        movie_name = input(\"Entrez le nom du film à ajouter (ou 'q' pour quitter) : \")\n",
    "        if movie_name == 'q':\n",
    "            break\n",
    "        with open(file_path, 'a') as file:\n",
    "            file.write(movie_name + '\\n')\n"
   ]
  },
  {
   "cell_type": "code",
   "execution_count": 136,
   "metadata": {},
   "outputs": [
    {
     "name": "stdout",
     "output_type": "stream",
     "text": [
      "Désolé, pour argent amer il va falloir attendre.\n",
      "Spiderman 2002 est disponible sur la plateforme Netflix avec l'abonnement.\n"
     ]
    }
   ],
   "source": [
    "movie_file = \"films.txt\"\n",
    "movie_names = read_movie_names(movie_file)\n",
    "\n",
    "# Proposer d'ajouter ou de supprimer des films\n",
    "add_movie_names(movie_file)\n",
    "#remove_movie_names(movie_file)\n",
    "\n",
    "# Boucle principale pour rechercher les films\n",
    "for movie_name in movie_names:\n",
    "    search_results = search_google(movie_name)\n",
    "    results = extract_div_elements(search_results, [\"ellip bclEt\", \"ellip rsj3fb\"])\n",
    "\n",
    "    if not results:\n",
    "        print(f\"Désolé, {movie_name} est incorrect. Veuillez réessayer.\")\n",
    "    else:\n",
    "        filtered_results = filter_results(results)\n",
    "\n",
    "        if not filtered_results:\n",
    "            print(f\"Désolé, pour {movie_name} il va falloir attendre.\")\n",
    "        else:\n",
    "            for key, value in filtered_results.items():\n",
    "                print(f\"{movie_name} est disponible sur la plateforme {key} avec l'abonnement.\")"
   ]
  },
  {
   "cell_type": "code",
   "execution_count": 131,
   "metadata": {},
   "outputs": [
    {
     "name": "stdout",
     "output_type": "stream",
     "text": [
      "Désolé, le nom du film est incorrect. Veuillez réessayer.\n",
      "Désolé, il va falloir attendre.\n"
     ]
    }
   ],
   "source": [
    "query = input(\"Entrez votre recherche : \")\n",
    "search_results = search_google(query)\n",
    "results = extract_div_elements(search_results, [\"ellip bclEt\", \"ellip rsj3fb\"])\n",
    "\n",
    "while not results:\n",
    "    print(\"Désolé, le nom du film est incorrect. Veuillez réessayer.\")\n",
    "    query = input(\"Entrez votre recherche : \")\n",
    "    search_results = search_google(query)\n",
    "    results = extract_div_elements(search_results, [\"ellip bclEt\", \"ellip rsj3fb\"])\n",
    "\n",
    "filtered_results = filter_results(results)\n",
    "\n",
    "if not filtered_results:\n",
    "    print(\"Désolé, il va falloir attendre.\")\n",
    "else:\n",
    "    for key, value in filtered_results.items():\n",
    "        print(f\"Ce film est disponible sur la plateforme {key} avec l'abonnement.\")\n"
   ]
  },
  {
   "cell_type": "code",
   "execution_count": 130,
   "metadata": {},
   "outputs": [
    {
     "name": "stdout",
     "output_type": "stream",
     "text": [
      "Désolé, le nom du film est incorrect. Veuillez réessayer.\n"
     ]
    }
   ],
   "source": [
    "\n",
    "\n",
    "\n",
    "# Demande à l'utilisateur de saisir le terme de recherche\n",
    "query = input(\"Entrez votre recherche : \")\n",
    "\n",
    "# Envoie la requête de recherche et récupère les résultats\n",
    "search_results = search_google(query)\n",
    "\n",
    "#extract_div_elements(search_results, [\"ellip bclEt\", \"ellip rsj3fb\"])\n",
    "\n",
    "# Appel initial pour extraire les éléments <div> et construire le dictionnaire de résultats\n",
    "results = extract_div_elements(search_results, [\"ellip bclEt\", \"ellip rsj3fb\"])\n",
    "\n",
    "if not results:\n",
    "    print(\"Désolé, le nom du film est incorrect. Veuillez réessayer.\")\n",
    "else:\n",
    "    filtered_results = filter_results(results)\n",
    "\n",
    "    # Afficher les résultats filtrés\n",
    "    if not filtered_results:\n",
    "        print(\"Désolé, il va falloir attendre.\")\n",
    "    else:\n",
    "        for key, value in filtered_results.items():\n",
    "            print(f\"Ce film est disponible sur la plateforme {key} avec l'abonnement.\")\n",
    "\n"
   ]
  }
 ],
 "metadata": {
  "kernelspec": {
   "display_name": "Python 3",
   "language": "python",
   "name": "python3"
  },
  "language_info": {
   "codemirror_mode": {
    "name": "ipython",
    "version": 3
   },
   "file_extension": ".py",
   "mimetype": "text/x-python",
   "name": "python",
   "nbconvert_exporter": "python",
   "pygments_lexer": "ipython3",
   "version": "3.11.3"
  },
  "orig_nbformat": 4
 },
 "nbformat": 4,
 "nbformat_minor": 2
}
